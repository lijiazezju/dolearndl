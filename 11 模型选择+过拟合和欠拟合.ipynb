{
 "cells": [
  {
   "cell_type": "code",
   "execution_count": 2,
   "id": "10bde4db",
   "metadata": {},
   "outputs": [],
   "source": [
    "#训练误差：模型在训练数据上的误差\n",
    "#泛化误差：模型在新数据集上的误差\n",
    "#验证数据集：一个用来评估模型好坏的数据集，不要和训练数据混在一起\n",
    "#测试数据集：只用一次的数据集"
   ]
  },
  {
   "cell_type": "code",
   "execution_count": 3,
   "id": "6baf7565",
   "metadata": {},
   "outputs": [],
   "source": [
    "#k-则交叉验证\n",
    "#在没有足够多数据时使用（常态）\n",
    "#算法\n",
    "#1.将训练数据分割成k块\n",
    "#2.For i,....,K\n",
    "   #使用第i块作为数据集，其余作为训练集进行训练\n",
    "#3.报告K个验证集误差的平均\n",
    "#常用：K=5或10"
   ]
  },
  {
   "attachments": {
    "image.png": {
     "image/png": "[encoded data removed]"
    }
   },
   "cell_type": "markdown",
   "id": "a1741463",
   "metadata": {},
   "source": [
    "# 过拟合和欠拟合\n",
    "![image.png](attachment:image.png)"
   ]
  },
  {
   "cell_type": "markdown",
   "id": "ba19e376",
   "metadata": {},
   "source": [
    "# 估计模型容量\n",
    " #### 不同种类算法之间难以比较\n",
    " #### 对于一种给定的模型种类：参数的个数和参数值的选择范围影响模型容量"
   ]
  },
  {
   "cell_type": "markdown",
   "id": "0f5986b8",
   "metadata": {},
   "source": [
    "# VC维\n",
    "1. 统计学习理论的一个核心思想\n",
    "2. 对于一个分类模型，VC等于一个最大的数据集的大小，不管如何给定标号，都存在一个模型来对它进行完美分类。（这边说的有点抽象，说白了就是：VC=模型一定能进行完美分类的最大数据集）\n",
    "\n",
    "#### 例子：2维输入的感知机，VC维=3（因为它不能解决xor问题，所以不可以是4及往上） 支持N维输出的感知机的VC维是N+1 ；一些多层感知机的VC维O(Nlog2N)\n",
    "\n",
    "### 用处：\n",
    "1. 提供一个模型好的理论依据\n",
    "2. 以衡量训练误差和泛化误差之间的间隔"
   ]
  },
  {
   "cell_type": "markdown",
   "id": "fb4e56a0",
   "metadata": {},
   "source": [
    "# 数据复杂度\n",
    "1. 样本个数\n",
    "2. 每个样本的元素个数\n",
    "3. 时间、空间结构\n",
    "4. 多样性"
   ]
  },
  {
   "cell_type": "code",
   "execution_count": 16,
   "id": "b49900fb",
   "metadata": {},
   "outputs": [],
   "source": [
    "import math\n",
    "import torch\n",
    "import numpy as np\n",
    "from torch import nn"
   ]
  },
  {
   "cell_type": "code",
   "execution_count": 74,
   "id": "5ba0a543",
   "metadata": {},
   "outputs": [],
   "source": [
    "#生成数据集的函数：y=1.2x-3.4x^2+5.6x^3+5+e\n",
    "n_train,n_test,true_w,true_b = 100,100,[1.2,-3.4,-5.6],5\n",
    "features = torch.normal(0.7,0.1,(n_train+n_test,1))\n",
    "pfeatures = features.clone()\n",
    "features = torch.cat((features,torch.pow(features,2),torch.pow(features,3)),1)\n",
    "labels = (true_w[0]*features[:,0]+true_w[1]*features[:,1]+true_w[2]*features[:,2]+true_b)\n",
    "labels += torch.normal(0,0.01,(labels.shape))"
   ]
  },
  {
   "cell_type": "code",
   "execution_count": 75,
   "id": "8f86df49",
   "metadata": {},
   "outputs": [
    {
     "data": {
      "text/plain": [
       "(tensor([[0.6638, 0.4406, 0.2925],\n",
       "         [0.5864, 0.3438, 0.2016]]),\n",
       " tensor([2.6426, 3.4029]))"
      ]
     },
     "execution_count": 75,
     "metadata": {},
     "output_type": "execute_result"
    }
   ],
   "source": [
    "features[:2],labels[:2]"
   ]
  },
  {
   "cell_type": "code",
   "execution_count": 76,
   "id": "64c9e605",
   "metadata": {},
   "outputs": [],
   "source": [
    "import matplotlib.pyplot as plt\n",
    "#作图函数\n",
    "def semilogy(x_vals, y_vals, x_label, y_label, x2_vals=None,y2_vals=None,legend=None, figsize=(3.5, 2.5)):\n",
    "    plt.figure(figsize=figsize)\n",
    "    plt.xlabel(x_label)  \n",
    "    plt.ylabel(y_label)  \n",
    "    plt.semilogy(x_vals, y_vals)\n",
    "    if x2_vals and y2_vals:\n",
    "        plt.semilogy(x2_vals, y2_vals, linestyle=':')\n",
    "        plt.legend(legend) #用于显示图例"
   ]
  },
  {
   "cell_type": "code",
   "execution_count": null,
   "id": "4ae404dc",
   "metadata": {},
   "outputs": [],
   "source": []
  },
  {
   "cell_type": "code",
   "execution_count": 98,
   "id": "75f260cd",
   "metadata": {},
   "outputs": [],
   "source": [
    "def train(train_features,test_features,train_labels,test_labels):\n",
    "    net = torch.nn.Linear(train_features.shape[-1],1)\n",
    "    batch_size = min(10,train_labels.shape[0])\n",
    "    dataset = torch.utils.data.TensorDataset(train_features,train_labels)  #用于合成数据集\n",
    "    train_iter = torch.utils.data.DataLoader(dataset,batch_size,shuffle=True)\n",
    "    optimizer = torch.optim.SGD(net.parameters(), lr=0.01)\n",
    "    train_loss,test_loss = [],[]\n",
    "    loss = torch.nn.MSELoss()\n",
    "    for _ in range(100):\n",
    "        for X,y in train_iter:\n",
    "            l = loss(net(X),y)\n",
    "            optimizer.zero_grad()\n",
    "            l.backward()\n",
    "            optimizer.step()\n",
    "        train_loss.append(loss(net(train_features),train_labels).item())\n",
    "        test_loss.append(loss(net(test_features),test_labels).item())\n",
    "    print(\"final epoch train_loss :\",train_loss[-1],\"test_loss:\",test_loss[-1])\n",
    "    semilogy(range(1, 100 + 1), train_loss, 'epochs', 'loss',\n",
    "             range(1, 100 + 1), test_loss, ['train', 'test'])\n",
    "    print('weight:', net.weight.data,'\\nbias:', net.bias.data)"
   ]
  },
  {
   "cell_type": "code",
   "execution_count": 99,
   "id": "c6a1b788",
   "metadata": {},
   "outputs": [
    {
     "name": "stdout",
     "output_type": "stream",
     "text": [
      "final epoch train_loss : 1.552390217781067 test_loss: 1.5896825790405273\n",
      "weight: tensor([[ 0.4411,  0.6699, -0.3325]]) \n",
      "bias: tensor([1.6158])\n"
     ]
    },
    {
     "data": {
      "image/png": "[encoded data removed]",
      "text/plain": [
       "<Figure size 252x180 with 1 Axes>"
      ]
     },
     "metadata": {
      "needs_background": "light"
     },
     "output_type": "display_data"
    }
   ],
   "source": [
    "#首先用三阶多项式拟合函数（结果正常）\n",
    "train(features[:n_train, :], features[n_train:, :], labels[:n_train], labels[n_train:])"
   ]
  },
  {
   "cell_type": "code",
   "execution_count": 100,
   "id": "566613cb",
   "metadata": {},
   "outputs": [
    {
     "name": "stdout",
     "output_type": "stream",
     "text": [
      "final epoch train_loss : 1.5495938062667847 test_loss: 1.5904133319854736\n",
      "weight: tensor([[0.7522]]) \n",
      "bias: tensor([1.6226])\n"
     ]
    },
    {
     "data": {
      "image/png": "[encoded data removed]",
      "text/plain": [
       "<Figure size 252x180 with 1 Axes>"
      ]
     },
     "metadata": {
      "needs_background": "light"
     },
     "output_type": "display_data"
    }
   ],
   "source": [
    "#线性函数拟合\n",
    "train(pfeatures[:n_train, :], pfeatures[n_train:, :], labels[:n_train], labels[n_train:])"
   ]
  },
  {
   "cell_type": "code",
   "execution_count": 101,
   "id": "63eda8b8",
   "metadata": {},
   "outputs": [
    {
     "name": "stdout",
     "output_type": "stream",
     "text": [
      "final epoch train_loss : 0.16290733218193054 test_loss: 2.989717721939087\n",
      "weight: tensor([[1.3961, 0.3774, 0.5434]]) \n",
      "bias: tensor([1.7730])\n"
     ]
    },
    {
     "data": {
      "image/png": "[encoded data removed]",
      "text/plain": [
       "<Figure size 252x180 with 1 Axes>"
      ]
     },
     "metadata": {
      "needs_background": "light"
     },
     "output_type": "display_data"
    }
   ],
   "source": [
    "#训练样本不足(过拟合)\n",
    "train(features[0:2, :], features[n_train:, :], labels[0:2], labels[n_train:])"
   ]
  },
  {
   "cell_type": "code",
   "execution_count": null,
   "id": "da0055d7",
   "metadata": {},
   "outputs": [],
   "source": []
  },
  {
   "cell_type": "code",
   "execution_count": null,
   "id": "bddd84cc",
   "metadata": {},
   "outputs": [],
   "source": []
  }
 ],
 "metadata": {
  "kernelspec": {
   "display_name": "pytorch",
   "language": "python",
   "name": "pytorch"
  },
  "language_info": {
   "codemirror_mode": {
    "name": "ipython",
    "version": 3
   },
   "file_extension": ".py",
   "mimetype": "text/x-python",
   "name": "python",
   "nbconvert_exporter": "python",
   "pygments_lexer": "ipython3",
   "version": "3.6.13"
  }
 },
 "nbformat": 4,
 "nbformat_minor": 5
}
